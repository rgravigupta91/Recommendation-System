{
 "cells": [
  {
   "cell_type": "code",
   "execution_count": null,
   "id": "a091f798",
   "metadata": {},
   "outputs": [],
   "source": [
    "import numpy as np\n",
    "import pandas as pd\n",
    "import random\n",
    "import uuid\n",
    "import json\n",
    "import time \n",
    "\n",
    "from langchain_core.prompts import PromptTemplate\n",
    "from langchain.schema.runnable import Runnable\n",
    "from langchain_huggingface import ChatHuggingFace, HuggingFaceEndpoint\n",
    "\n",
    "from dotenv import load_dotenv\n",
    "\n"
   ]
  },
  {
   "cell_type": "code",
   "execution_count": null,
   "id": "eacaa285",
   "metadata": {},
   "outputs": [
    {
     "data": {
      "text/plain": [
       "True"
      ]
     },
     "execution_count": 26,
     "metadata": {},
     "output_type": "execute_result"
    }
   ],
   "source": [
    "load_dotenv()  "
   ]
  },
  {
   "cell_type": "code",
   "execution_count": 27,
   "id": "3af306e9",
   "metadata": {},
   "outputs": [],
   "source": [
    "df_retail = pd.read_csv('../data/Retail_Transactions_Dataset.csv')"
   ]
  },
  {
   "cell_type": "code",
   "execution_count": 28,
   "id": "bde90bf3",
   "metadata": {},
   "outputs": [],
   "source": [
    "#df_retail.sample(10)"
   ]
  },
  {
   "cell_type": "markdown",
   "id": "bb39a1c5",
   "metadata": {},
   "source": [
    "## Product Set Data Prepration"
   ]
  },
  {
   "cell_type": "code",
   "execution_count": null,
   "id": "a5460510",
   "metadata": {},
   "outputs": [
    {
     "ename": "ValueError",
     "evalue": "Cannot set a frame with no defined index and a value that cannot be converted to a Series",
     "output_type": "error",
     "traceback": [
      "\u001b[31m---------------------------------------------------------------------------\u001b[39m",
      "\u001b[31mTypeError\u001b[39m                                 Traceback (most recent call last)",
      "\u001b[36mFile \u001b[39m\u001b[32mC:\\Python\\Python311\\Lib\\site-packages\\pandas\\core\\frame.py:4599\u001b[39m, in \u001b[36mDataFrame._ensure_valid_index\u001b[39m\u001b[34m(self, value)\u001b[39m\n\u001b[32m   4598\u001b[39m \u001b[38;5;28;01mtry\u001b[39;00m:\n\u001b[32m-> \u001b[39m\u001b[32m4599\u001b[39m     value = \u001b[43mSeries\u001b[49m\u001b[43m(\u001b[49m\u001b[43mvalue\u001b[49m\u001b[43m)\u001b[49m\n\u001b[32m   4600\u001b[39m \u001b[38;5;28;01mexcept\u001b[39;00m (\u001b[38;5;167;01mValueError\u001b[39;00m, \u001b[38;5;167;01mNotImplementedError\u001b[39;00m, \u001b[38;5;167;01mTypeError\u001b[39;00m) \u001b[38;5;28;01mas\u001b[39;00m err:\n",
      "\u001b[36mFile \u001b[39m\u001b[32mC:\\Python\\Python311\\Lib\\site-packages\\pandas\\core\\series.py:584\u001b[39m, in \u001b[36mSeries.__init__\u001b[39m\u001b[34m(self, data, index, dtype, name, copy, fastpath)\u001b[39m\n\u001b[32m    583\u001b[39m \u001b[38;5;28;01melse\u001b[39;00m:\n\u001b[32m--> \u001b[39m\u001b[32m584\u001b[39m     data = \u001b[43msanitize_array\u001b[49m\u001b[43m(\u001b[49m\u001b[43mdata\u001b[49m\u001b[43m,\u001b[49m\u001b[43m \u001b[49m\u001b[43mindex\u001b[49m\u001b[43m,\u001b[49m\u001b[43m \u001b[49m\u001b[43mdtype\u001b[49m\u001b[43m,\u001b[49m\u001b[43m \u001b[49m\u001b[43mcopy\u001b[49m\u001b[43m)\u001b[49m\n\u001b[32m    586\u001b[39m     manager = _get_option(\u001b[33m\"\u001b[39m\u001b[33mmode.data_manager\u001b[39m\u001b[33m\"\u001b[39m, silent=\u001b[38;5;28;01mTrue\u001b[39;00m)\n",
      "\u001b[36mFile \u001b[39m\u001b[32mC:\\Python\\Python311\\Lib\\site-packages\\pandas\\core\\construction.py:639\u001b[39m, in \u001b[36msanitize_array\u001b[39m\u001b[34m(data, index, dtype, copy, allow_2d)\u001b[39m\n\u001b[32m    638\u001b[39m \u001b[38;5;28;01melse\u001b[39;00m:\n\u001b[32m--> \u001b[39m\u001b[32m639\u001b[39m     \u001b[43m_sanitize_non_ordered\u001b[49m\u001b[43m(\u001b[49m\u001b[43mdata\u001b[49m\u001b[43m)\u001b[49m\n\u001b[32m    640\u001b[39m     \u001b[38;5;66;03m# materialize e.g. generators, convert e.g. tuples, abc.ValueView\u001b[39;00m\n",
      "\u001b[36mFile \u001b[39m\u001b[32mC:\\Python\\Python311\\Lib\\site-packages\\pandas\\core\\construction.py:690\u001b[39m, in \u001b[36m_sanitize_non_ordered\u001b[39m\u001b[34m(data)\u001b[39m\n\u001b[32m    689\u001b[39m \u001b[38;5;28;01mif\u001b[39;00m \u001b[38;5;28misinstance\u001b[39m(data, (\u001b[38;5;28mset\u001b[39m, \u001b[38;5;28mfrozenset\u001b[39m)):\n\u001b[32m--> \u001b[39m\u001b[32m690\u001b[39m     \u001b[38;5;28;01mraise\u001b[39;00m \u001b[38;5;167;01mTypeError\u001b[39;00m(\u001b[33mf\u001b[39m\u001b[33m\"\u001b[39m\u001b[33m'\u001b[39m\u001b[38;5;132;01m{\u001b[39;00m\u001b[38;5;28mtype\u001b[39m(data).\u001b[34m__name__\u001b[39m\u001b[38;5;132;01m}\u001b[39;00m\u001b[33m'\u001b[39m\u001b[33m type is unordered\u001b[39m\u001b[33m\"\u001b[39m)\n",
      "\u001b[31mTypeError\u001b[39m: 'set' type is unordered",
      "\nThe above exception was the direct cause of the following exception:\n",
      "\u001b[31mValueError\u001b[39m                                Traceback (most recent call last)",
      "\u001b[32m~\\AppData\\Local\\Temp\\ipykernel_16672\\1266672322.py\u001b[39m in \u001b[36m?\u001b[39m\u001b[34m()\u001b[39m\n\u001b[32m      3\u001b[39m \u001b[38;5;28;01mfor\u001b[39;00m i \u001b[38;5;28;01min\u001b[39;00m range(len(df_retail)):\n\u001b[32m      4\u001b[39m     a = df_retail.iloc[i][\u001b[33m'Product'\u001b[39m]\n\u001b[32m      5\u001b[39m     ProductSet.update(a.replace(\u001b[33m\"[\"\u001b[39m,\u001b[33m''\u001b[39m).replace(\u001b[33m\"]\"\u001b[39m,\u001b[33m''\u001b[39m).replace(\u001b[33m\"'\"\u001b[39m,\u001b[33m''\u001b[39m).replace(\u001b[33m', '\u001b[39m,\u001b[33m','\u001b[39m).split(\u001b[33m','\u001b[39m))\n\u001b[32m      6\u001b[39m \n\u001b[32m----> \u001b[39m\u001b[32m7\u001b[39m Products[\u001b[33m'Product'\u001b[39m] = ProductSet\n\u001b[32m      8\u001b[39m Products[\u001b[33m'ProductSet'\u001b[39m] = \u001b[33m'Daily Essentials'\u001b[39m\n",
      "\u001b[32mC:\\Python\\Python311\\Lib\\site-packages\\pandas\\core\\frame.py\u001b[39m in \u001b[36m?\u001b[39m\u001b[34m(self, key, value)\u001b[39m\n\u001b[32m   4312\u001b[39m             \u001b[38;5;66;03m# Column to set is duplicated\u001b[39;00m\n\u001b[32m   4313\u001b[39m             self._setitem_array([key], value)\n\u001b[32m   4314\u001b[39m         \u001b[38;5;28;01melse\u001b[39;00m:\n\u001b[32m   4315\u001b[39m             \u001b[38;5;66;03m# set column\u001b[39;00m\n\u001b[32m-> \u001b[39m\u001b[32m4316\u001b[39m             self._set_item(key, value)\n",
      "\u001b[32mC:\\Python\\Python311\\Lib\\site-packages\\pandas\\core\\frame.py\u001b[39m in \u001b[36m?\u001b[39m\u001b[34m(self, key, value)\u001b[39m\n\u001b[32m   4525\u001b[39m \n\u001b[32m   4526\u001b[39m         Series/TimeSeries will be conformed to the DataFrames index to\n\u001b[32m   4527\u001b[39m         ensure homogeneity.\n\u001b[32m   4528\u001b[39m         \"\"\"\n\u001b[32m-> \u001b[39m\u001b[32m4529\u001b[39m         value, refs = self._sanitize_column(value)\n\u001b[32m   4530\u001b[39m \n\u001b[32m   4531\u001b[39m         if (\n\u001b[32m   4532\u001b[39m             key \u001b[38;5;28;01min\u001b[39;00m self.columns\n",
      "\u001b[32mC:\\Python\\Python311\\Lib\\site-packages\\pandas\\core\\frame.py\u001b[39m in \u001b[36m?\u001b[39m\u001b[34m(self, value)\u001b[39m\n\u001b[32m   5259\u001b[39m         Returns\n\u001b[32m   5260\u001b[39m         -------\n\u001b[32m   5261\u001b[39m         tuple of numpy.ndarray \u001b[38;5;28;01mor\u001b[39;00m ExtensionArray \u001b[38;5;28;01mand\u001b[39;00m optional BlockValuesRefs\n\u001b[32m   5262\u001b[39m         \"\"\"\n\u001b[32m-> \u001b[39m\u001b[32m5263\u001b[39m         self._ensure_valid_index(value)\n\u001b[32m   5264\u001b[39m \n\u001b[32m   5265\u001b[39m         \u001b[38;5;66;03m# Using a DataFrame would mean coercing values to one dtype\u001b[39;00m\n\u001b[32m   5266\u001b[39m         \u001b[38;5;28;01massert\u001b[39;00m \u001b[38;5;28;01mnot\u001b[39;00m isinstance(value, DataFrame)\n",
      "\u001b[32mC:\\Python\\Python311\\Lib\\site-packages\\pandas\\core\\frame.py\u001b[39m in \u001b[36m?\u001b[39m\u001b[34m(self, value)\u001b[39m\n\u001b[32m   4597\u001b[39m             \u001b[38;5;28;01mif\u001b[39;00m \u001b[38;5;28;01mnot\u001b[39;00m isinstance(value, DataFrame):\n\u001b[32m   4598\u001b[39m                 \u001b[38;5;28;01mtry\u001b[39;00m:\n\u001b[32m   4599\u001b[39m                     value = Series(value)\n\u001b[32m   4600\u001b[39m                 \u001b[38;5;28;01mexcept\u001b[39;00m (ValueError, NotImplementedError, TypeError) \u001b[38;5;28;01mas\u001b[39;00m err:\n\u001b[32m-> \u001b[39m\u001b[32m4601\u001b[39m                     raise ValueError(\n\u001b[32m   4602\u001b[39m                         \u001b[33m\"Cannot set a frame with no defined index \"\u001b[39m\n\u001b[32m   4603\u001b[39m                         \u001b[33m\"and a value that cannot be converted to a Series\"\u001b[39m\n\u001b[32m   4604\u001b[39m                     ) from err\n",
      "\u001b[31mValueError\u001b[39m: Cannot set a frame with no defined index and a value that cannot be converted to a Series"
     ]
    }
   ],
   "source": [
    "ProductSet = set()\n",
    "Products = pd.DataFrame(columns=['ProductSet','Product'])\n",
    "for i in range(len(df_retail)):\n",
    "    a = df_retail.iloc[i]['Product']\n",
    "    ProductSet.update(a.replace(\"[\",'').replace(\"]\",'').replace(\"'\",'').replace(', ',',').split(','))"
   ]
  },
  {
   "cell_type": "code",
   "execution_count": 30,
   "id": "15238701",
   "metadata": {},
   "outputs": [],
   "source": [
    "Products['Product'] = list(ProductSet)\n",
    "Products['ProductSet'] = 'Daily Essentials'"
   ]
  },
  {
   "cell_type": "code",
   "execution_count": 32,
   "id": "182c2231",
   "metadata": {},
   "outputs": [
    {
     "data": {
      "text/plain": [
       "(81, 2)"
      ]
     },
     "execution_count": 32,
     "metadata": {},
     "output_type": "execute_result"
    }
   ],
   "source": [
    "Products.shape"
   ]
  },
  {
   "cell_type": "code",
   "execution_count": 33,
   "id": "bff72772",
   "metadata": {},
   "outputs": [],
   "source": [
    "#df_products = pd.DataFrame(data=ProductSet,columns=['Products'])\n",
    "Products.to_csv('../data/Products.csv',index=False)"
   ]
  },
  {
   "cell_type": "code",
   "execution_count": 37,
   "id": "c479f59b",
   "metadata": {},
   "outputs": [
    {
     "data": {
      "text/plain": [
       "['Daily Essentials']"
      ]
     },
     "execution_count": 37,
     "metadata": {},
     "output_type": "execute_result"
    }
   ],
   "source": [
    "list(Products['ProductSet'].unique())"
   ]
  },
  {
   "cell_type": "code",
   "execution_count": 74,
   "id": "fe7ce054",
   "metadata": {},
   "outputs": [
    {
     "data": {
      "text/plain": [
       "0                     Ice Cream\n",
       "1                       Vinegar\n",
       "2                         Honey\n",
       "3                   Bath Towels\n",
       "4     Feminine Hygiene Products\n",
       "                ...            \n",
       "76                      Tissues\n",
       "77                 Power Strips\n",
       "78                      Sponges\n",
       "79                         Soap\n",
       "80                      Shampoo\n",
       "Name: Product, Length: 81, dtype: object"
      ]
     },
     "execution_count": 74,
     "metadata": {},
     "output_type": "execute_result"
    }
   ],
   "source": [
    "Products[Products['ProductSet']=='Daily Essentials']['Product']"
   ]
  },
  {
   "cell_type": "code",
   "execution_count": 75,
   "id": "9f9acde4",
   "metadata": {},
   "outputs": [
    {
     "data": {
      "text/plain": [
       "{'ProductSet': ['Air Freshener',\n",
       "  'Apple',\n",
       "  'BBQ Sauce',\n",
       "  'Baby Wipes',\n",
       "  'Banana',\n",
       "  'Bath Towels',\n",
       "  'Beef',\n",
       "  'Bread',\n",
       "  'Broom',\n",
       "  'Butter',\n",
       "  'Canned Soup',\n",
       "  'Carrots',\n",
       "  'Cereal',\n",
       "  'Cereal Bars',\n",
       "  'Cheese',\n",
       "  'Chicken',\n",
       "  'Chips',\n",
       "  'Cleaning Rags',\n",
       "  'Cleaning Spray',\n",
       "  'Coffee',\n",
       "  'Deodorant',\n",
       "  'Diapers',\n",
       "  'Dish Soap',\n",
       "  'Dishware',\n",
       "  'Dustpan',\n",
       "  'Eggs',\n",
       "  'Extension Cords',\n",
       "  'Feminine Hygiene Products',\n",
       "  'Garden Hose',\n",
       "  'Hair Gel',\n",
       "  'Hand Sanitizer',\n",
       "  'Honey',\n",
       "  'Ice Cream',\n",
       "  'Insect Repellent',\n",
       "  'Iron',\n",
       "  'Ironing Board',\n",
       "  'Jam',\n",
       "  'Ketchup',\n",
       "  'Laundry Detergent',\n",
       "  'Lawn Mower',\n",
       "  'Light Bulbs',\n",
       "  'Mayonnaise',\n",
       "  'Milk',\n",
       "  'Mop',\n",
       "  'Mustard',\n",
       "  'Olive Oil',\n",
       "  'Onions',\n",
       "  'Orange',\n",
       "  'Pancake Mix',\n",
       "  'Paper Towels',\n",
       "  'Pasta',\n",
       "  'Peanut Butter',\n",
       "  'Pickles',\n",
       "  'Plant Fertilizer',\n",
       "  'Potatoes',\n",
       "  'Power Strips',\n",
       "  'Razors',\n",
       "  'Rice',\n",
       "  'Salmon',\n",
       "  'Shampoo',\n",
       "  'Shaving Cream',\n",
       "  'Shower Gel',\n",
       "  'Shrimp',\n",
       "  'Soap',\n",
       "  'Soda',\n",
       "  'Spinach',\n",
       "  'Sponges',\n",
       "  'Syrup',\n",
       "  'Tea',\n",
       "  'Tissues',\n",
       "  'Toilet Paper',\n",
       "  'Tomatoes',\n",
       "  'Toothbrush',\n",
       "  'Toothpaste',\n",
       "  'Trash Bags',\n",
       "  'Trash Cans',\n",
       "  'Tuna',\n",
       "  'Vacuum Cleaner',\n",
       "  'Vinegar',\n",
       "  'Water',\n",
       "  'Yogurt']}"
      ]
     },
     "execution_count": 75,
     "metadata": {},
     "output_type": "execute_result"
    }
   ],
   "source": [
    "a = list(Products[Products['ProductSet']=='Daily Essentials']['Product'].unique())\n",
    "a.sort()\n",
    "keys = list(range(len(a)))\n",
    "#dict(zip(keys, a))\n",
    "dict.fromkeys(['ProductSet'],a)"
   ]
  },
  {
   "cell_type": "code",
   "execution_count": 48,
   "id": "4c45f1d7",
   "metadata": {},
   "outputs": [],
   "source": [
    "a"
   ]
  },
  {
   "cell_type": "markdown",
   "id": "521ffc16",
   "metadata": {},
   "source": [
    "## User Data Prepration"
   ]
  },
  {
   "cell_type": "code",
   "execution_count": 72,
   "id": "f9761988",
   "metadata": {},
   "outputs": [],
   "source": [
    "# Customer_Name,Customer_Type,Gender,Age\n",
    "df_user = pd.DataFrame()\n",
    "df_user['Customer_Name'] = df_retail['Customer_Name'].unique()\n",
    "df_user['guid'] = [str(uuid.uuid4()) for _ in range(len(df_user))]"
   ]
  },
  {
   "cell_type": "code",
   "execution_count": 74,
   "id": "1339186c",
   "metadata": {},
   "outputs": [],
   "source": [
    "def returnAge(customerType):\n",
    "    if customerType == 'Senior Citizen':\n",
    "        return random.randint(60,80)\n",
    "    elif customerType == 'Homemaker':\n",
    "        return random.randint(18,60)\n",
    "    elif customerType == 'Teenager':\n",
    "        return random.randint(13,19)\n",
    "    elif customerType == 'Retiree':\n",
    "        return random.randint(60,80)\n",
    "    elif customerType == 'Student':\n",
    "        return random.randint(5,18)\n",
    "    elif customerType == 'Professional':\n",
    "        return random.randint(30,55)\n",
    "    elif customerType == 'Middle-Aged':\n",
    "        return random.randint(40,60)\n",
    "    elif customerType == 'Young Adult':\n",
    "        return random.randint(18,30)"
   ]
  },
  {
   "cell_type": "code",
   "execution_count": 158,
   "id": "19ff49ef",
   "metadata": {},
   "outputs": [],
   "source": [
    "df_user['Customer_Type'] = np.nan\n",
    "df_user['Age'] = 0"
   ]
  },
  {
   "cell_type": "code",
   "execution_count": null,
   "id": "a40ce0d5",
   "metadata": {},
   "outputs": [
    {
     "name": "stderr",
     "output_type": "stream",
     "text": [
      "C:\\Users\\Ravi\\AppData\\Local\\Temp\\ipykernel_6524\\3017680431.py:5: FutureWarning: Setting an item of incompatible dtype is deprecated and will raise an error in a future version of pandas. Value 'Student' has dtype incompatible with float64, please explicitly cast to a compatible dtype first.\n",
      "  df_user.at[i,'Customer_Type'] = df_retail[df_retail['Customer_Name'] == name].iloc[0]['Customer_Category']\n"
     ]
    },
    {
     "ename": "KeyboardInterrupt",
     "evalue": "",
     "output_type": "error",
     "traceback": [
      "\u001b[31m---------------------------------------------------------------------------\u001b[39m",
      "\u001b[31mKeyboardInterrupt\u001b[39m                         Traceback (most recent call last)",
      "\u001b[36mCell\u001b[39m\u001b[36m \u001b[39m\u001b[32mIn[156]\u001b[39m\u001b[32m, line 5\u001b[39m\n\u001b[32m      3\u001b[39m \u001b[38;5;28;01mfor\u001b[39;00m i, row \u001b[38;5;129;01min\u001b[39;00m df_user[\u001b[32m230693\u001b[39m:].iterrows():\n\u001b[32m      4\u001b[39m     name = row[\u001b[33m'\u001b[39m\u001b[33mCustomer_Name\u001b[39m\u001b[33m'\u001b[39m]\n\u001b[32m----> \u001b[39m\u001b[32m5\u001b[39m     df_user.at[i,\u001b[33m'\u001b[39m\u001b[33mCustomer_Type\u001b[39m\u001b[33m'\u001b[39m] = df_retail[\u001b[43mdf_retail\u001b[49m\u001b[43m[\u001b[49m\u001b[33;43m'\u001b[39;49m\u001b[33;43mCustomer_Name\u001b[39;49m\u001b[33;43m'\u001b[39;49m\u001b[43m]\u001b[49m\u001b[43m \u001b[49m\u001b[43m==\u001b[49m\u001b[43m \u001b[49m\u001b[43mname\u001b[49m].iloc[\u001b[32m0\u001b[39m][\u001b[33m'\u001b[39m\u001b[33mCustomer_Category\u001b[39m\u001b[33m'\u001b[39m]\n\u001b[32m      6\u001b[39m     df_user.at[i,\u001b[33m'\u001b[39m\u001b[33mAge\u001b[39m\u001b[33m'\u001b[39m] = returnAge(df_user.at[i,\u001b[33m'\u001b[39m\u001b[33mCustomer_Type\u001b[39m\u001b[33m'\u001b[39m])\n",
      "\u001b[36mFile \u001b[39m\u001b[32mC:\\Python\\Python311\\Lib\\site-packages\\pandas\\core\\ops\\common.py:76\u001b[39m, in \u001b[36m_unpack_zerodim_and_defer.<locals>.new_method\u001b[39m\u001b[34m(self, other)\u001b[39m\n\u001b[32m     72\u001b[39m             \u001b[38;5;28;01mreturn\u001b[39;00m \u001b[38;5;28mNotImplemented\u001b[39m\n\u001b[32m     74\u001b[39m other = item_from_zerodim(other)\n\u001b[32m---> \u001b[39m\u001b[32m76\u001b[39m \u001b[38;5;28;01mreturn\u001b[39;00m \u001b[43mmethod\u001b[49m\u001b[43m(\u001b[49m\u001b[38;5;28;43mself\u001b[39;49m\u001b[43m,\u001b[49m\u001b[43m \u001b[49m\u001b[43mother\u001b[49m\u001b[43m)\u001b[49m\n",
      "\u001b[36mFile \u001b[39m\u001b[32mC:\\Python\\Python311\\Lib\\site-packages\\pandas\\core\\arraylike.py:40\u001b[39m, in \u001b[36mOpsMixin.__eq__\u001b[39m\u001b[34m(self, other)\u001b[39m\n\u001b[32m     38\u001b[39m \u001b[38;5;129m@unpack_zerodim_and_defer\u001b[39m(\u001b[33m\"\u001b[39m\u001b[33m__eq__\u001b[39m\u001b[33m\"\u001b[39m)\n\u001b[32m     39\u001b[39m \u001b[38;5;28;01mdef\u001b[39;00m\u001b[38;5;250m \u001b[39m\u001b[34m__eq__\u001b[39m(\u001b[38;5;28mself\u001b[39m, other):\n\u001b[32m---> \u001b[39m\u001b[32m40\u001b[39m     \u001b[38;5;28;01mreturn\u001b[39;00m \u001b[38;5;28;43mself\u001b[39;49m\u001b[43m.\u001b[49m\u001b[43m_cmp_method\u001b[49m\u001b[43m(\u001b[49m\u001b[43mother\u001b[49m\u001b[43m,\u001b[49m\u001b[43m \u001b[49m\u001b[43moperator\u001b[49m\u001b[43m.\u001b[49m\u001b[43meq\u001b[49m\u001b[43m)\u001b[49m\n",
      "\u001b[36mFile \u001b[39m\u001b[32mC:\\Python\\Python311\\Lib\\site-packages\\pandas\\core\\series.py:6130\u001b[39m, in \u001b[36mSeries._cmp_method\u001b[39m\u001b[34m(self, other, op)\u001b[39m\n\u001b[32m   6127\u001b[39m lvalues = \u001b[38;5;28mself\u001b[39m._values\n\u001b[32m   6128\u001b[39m rvalues = extract_array(other, extract_numpy=\u001b[38;5;28;01mTrue\u001b[39;00m, extract_range=\u001b[38;5;28;01mTrue\u001b[39;00m)\n\u001b[32m-> \u001b[39m\u001b[32m6130\u001b[39m res_values = \u001b[43mops\u001b[49m\u001b[43m.\u001b[49m\u001b[43mcomparison_op\u001b[49m\u001b[43m(\u001b[49m\u001b[43mlvalues\u001b[49m\u001b[43m,\u001b[49m\u001b[43m \u001b[49m\u001b[43mrvalues\u001b[49m\u001b[43m,\u001b[49m\u001b[43m \u001b[49m\u001b[43mop\u001b[49m\u001b[43m)\u001b[49m\n\u001b[32m   6132\u001b[39m \u001b[38;5;28;01mreturn\u001b[39;00m \u001b[38;5;28mself\u001b[39m._construct_result(res_values, name=res_name)\n",
      "\u001b[36mFile \u001b[39m\u001b[32mC:\\Python\\Python311\\Lib\\site-packages\\pandas\\core\\ops\\array_ops.py:344\u001b[39m, in \u001b[36mcomparison_op\u001b[39m\u001b[34m(left, right, op)\u001b[39m\n\u001b[32m    341\u001b[39m     \u001b[38;5;28;01mreturn\u001b[39;00m invalid_comparison(lvalues, rvalues, op)\n\u001b[32m    343\u001b[39m \u001b[38;5;28;01melif\u001b[39;00m lvalues.dtype == \u001b[38;5;28mobject\u001b[39m \u001b[38;5;129;01mor\u001b[39;00m \u001b[38;5;28misinstance\u001b[39m(rvalues, \u001b[38;5;28mstr\u001b[39m):\n\u001b[32m--> \u001b[39m\u001b[32m344\u001b[39m     res_values = \u001b[43mcomp_method_OBJECT_ARRAY\u001b[49m\u001b[43m(\u001b[49m\u001b[43mop\u001b[49m\u001b[43m,\u001b[49m\u001b[43m \u001b[49m\u001b[43mlvalues\u001b[49m\u001b[43m,\u001b[49m\u001b[43m \u001b[49m\u001b[43mrvalues\u001b[49m\u001b[43m)\u001b[49m\n\u001b[32m    346\u001b[39m \u001b[38;5;28;01melse\u001b[39;00m:\n\u001b[32m    347\u001b[39m     res_values = _na_arithmetic_op(lvalues, rvalues, op, is_cmp=\u001b[38;5;28;01mTrue\u001b[39;00m)\n",
      "\u001b[36mFile \u001b[39m\u001b[32mC:\\Python\\Python311\\Lib\\site-packages\\pandas\\core\\ops\\array_ops.py:130\u001b[39m, in \u001b[36mcomp_method_OBJECT_ARRAY\u001b[39m\u001b[34m(op, x, y)\u001b[39m\n\u001b[32m    128\u001b[39m \u001b[38;5;28;01melse\u001b[39;00m:\n\u001b[32m    129\u001b[39m     result = libops.scalar_compare(x.ravel(), y, op)\n\u001b[32m--> \u001b[39m\u001b[32m130\u001b[39m \u001b[38;5;28;01mreturn\u001b[39;00m \u001b[43mresult\u001b[49m\u001b[43m.\u001b[49m\u001b[43mreshape\u001b[49m\u001b[43m(\u001b[49m\u001b[43mx\u001b[49m\u001b[43m.\u001b[49m\u001b[43mshape\u001b[49m\u001b[43m)\u001b[49m\n",
      "\u001b[31mKeyboardInterrupt\u001b[39m: "
     ]
    }
   ],
   "source": [
    "for i, row in df_user.iterrows():\n",
    "    name = row['Customer_Name']\n",
    "    df_user.at[i,'Customer_Type'] = df_retail[df_retail['Customer_Name'] == name].iloc[0]['Customer_Category']\n",
    "    df_user.at[i,'Age'] = returnAge(df_user.at[i,'Customer_Type'])\n",
    "    "
   ]
  },
  {
   "cell_type": "code",
   "execution_count": 142,
   "id": "4b5f7506",
   "metadata": {},
   "outputs": [
    {
     "name": "stderr",
     "output_type": "stream",
     "text": [
      "C:\\Python\\Python311\\Lib\\site-packages\\tqdm\\auto.py:21: TqdmWarning: IProgress not found. Please update jupyter and ipywidgets. See https://ipywidgets.readthedocs.io/en/stable/user_install.html\n",
      "  from .autonotebook import tqdm as notebook_tqdm\n"
     ]
    }
   ],
   "source": [
    "class genderParser(Runnable):\n",
    "    def invoke(self,result, tag):\n",
    "        try:\n",
    "            a = json.loads(result.content)\n",
    "            return a['gender']\n",
    "        except Exception as e:\n",
    "            print(type(result))\n",
    "            return np.nan\n",
    "\n",
    "parser = genderParser()\n",
    "\n",
    "prompt = PromptTemplate(\n",
    "    template='What is the usual gender of name {name}? Please answer only M or F in format \\\"{{\\\"gender:value\\\"}}\\\"',\n",
    "    input_variables=['name']\n",
    ")\n",
    "\n",
    "model_name = \"NousResearch/Nous-Hermes-2-Mixtral-8x7B-DPO\"\n",
    "llm = HuggingFaceEndpoint(\n",
    "    repo_id=model_name,\n",
    "    task='text-generation',\n",
    "    temperature=0\n",
    ")\n",
    "\n",
    "model = ChatHuggingFace(llm=llm)\n",
    "\n",
    "chain = prompt | model | parser"
   ]
  },
  {
   "cell_type": "code",
   "execution_count": null,
   "id": "5e0df8ee",
   "metadata": {},
   "outputs": [],
   "source": [
    "df_user['fname'] = np.nan\n",
    "df_user['lname'] = np.nan"
   ]
  },
  {
   "cell_type": "code",
   "execution_count": null,
   "id": "f0270926",
   "metadata": {},
   "outputs": [
    {
     "name": "stderr",
     "output_type": "stream",
     "text": [
      "C:\\Users\\Ravi\\AppData\\Local\\Temp\\ipykernel_6524\\412664388.py:6: FutureWarning: Setting an item of incompatible dtype is deprecated and will raise an error in a future version of pandas. Value 'Jeremy' has dtype incompatible with float64, please explicitly cast to a compatible dtype first.\n",
      "  df_user.at[i,'fname'] = name[0]\n",
      "C:\\Users\\Ravi\\AppData\\Local\\Temp\\ipykernel_6524\\412664388.py:7: FutureWarning: Setting an item of incompatible dtype is deprecated and will raise an error in a future version of pandas. Value 'Irwin' has dtype incompatible with float64, please explicitly cast to a compatible dtype first.\n",
      "  df_user.at[i,'lname'] = name[1]\n"
     ]
    }
   ],
   "source": [
    "for i, row in df_user.iterrows():\n",
    "    name = row['Customer_Name'].replace('Mrs. ','').replace('Mr. ','').replace('Dr. ','').replace('Ms. ','').split()\n",
    "    df_user.at[i,'fname'] = name[0]\n",
    "    df_user.at[i,'lname'] = name[1]\n"
   ]
  },
  {
   "cell_type": "code",
   "execution_count": 145,
   "id": "cea8e190",
   "metadata": {},
   "outputs": [],
   "source": [
    "df_user['Gender'] = np.nan"
   ]
  },
  {
   "cell_type": "code",
   "execution_count": null,
   "id": "87db2350",
   "metadata": {},
   "outputs": [
    {
     "name": "stderr",
     "output_type": "stream",
     "text": [
      "C:\\Users\\Ravi\\AppData\\Local\\Temp\\ipykernel_6524\\3891245755.py:7: FutureWarning: Setting an item of incompatible dtype is deprecated and will raise an error in a future version of pandas. Value 'F' has dtype incompatible with float64, please explicitly cast to a compatible dtype first.\n",
      "  df_user.loc[df_user['fname'] == fname, 'Gender'] = gender\n"
     ]
    },
    {
     "name": "stdout",
     "output_type": "stream",
     "text": [
      "3\n"
     ]
    }
   ],
   "source": [
    "for i, row in df_user.iterrows():\n",
    "    if (row['Gender'] in ['M','F']) == True:\n",
    "        continue\n",
    "    try:\n",
    "        fname, lname = row['Customer_Name'].replace('Mrs. ','').replace('Mr. ','').replace('Dr. ','').replace('Ms. ','').split()\n",
    "        gender = chain.invoke({'name':fname})\n",
    "        df_user.loc[df_user['fname'] == fname, 'Gender'] = gender\n",
    "        if i % 5 == 0:\n",
    "            time.sleep(5)\n",
    "    except Exception as e:\n",
    "        print(i)\n",
    "        time.sleep(60)"
   ]
  },
  {
   "cell_type": "code",
   "execution_count": null,
   "id": "f29d8fd2",
   "metadata": {},
   "outputs": [],
   "source": [
    "for i in range(df_user.shape[0]):\n",
    "    df_user.at[i,'Phone'] = str(9999999999 - i)"
   ]
  },
  {
   "cell_type": "code",
   "execution_count": 18,
   "id": "e80c4182",
   "metadata": {},
   "outputs": [],
   "source": [
    "df_user.to_csv('../data/UserData.csv',index=False)"
   ]
  },
  {
   "cell_type": "markdown",
   "id": "317ebe85",
   "metadata": {},
   "source": [
    "## User-Item Data Prepration"
   ]
  },
  {
   "cell_type": "code",
   "execution_count": 6,
   "id": "3dbcce19",
   "metadata": {},
   "outputs": [],
   "source": [
    "# Execute this section if you are executing only this section\n",
    "df_retail = pd.read_csv('../data/Retail_Transactions_Dataset.csv')\n",
    "df_products = pd.read_csv('../data/Products.csv')\n",
    "df_user = pd.read_csv('../data/UserData.csv')"
   ]
  },
  {
   "cell_type": "code",
   "execution_count": 7,
   "id": "a3da74f5",
   "metadata": {},
   "outputs": [],
   "source": [
    "usermap = dict(zip(df_user['Customer_Name'], df_user['guid']))"
   ]
  },
  {
   "cell_type": "code",
   "execution_count": 13,
   "id": "ff2ab24d",
   "metadata": {},
   "outputs": [
    {
     "data": {
      "text/html": [
       "<div>\n",
       "<style scoped>\n",
       "    .dataframe tbody tr th:only-of-type {\n",
       "        vertical-align: middle;\n",
       "    }\n",
       "\n",
       "    .dataframe tbody tr th {\n",
       "        vertical-align: top;\n",
       "    }\n",
       "\n",
       "    .dataframe thead th {\n",
       "        text-align: right;\n",
       "    }\n",
       "</style>\n",
       "<table border=\"1\" class=\"dataframe\">\n",
       "  <thead>\n",
       "    <tr style=\"text-align: right;\">\n",
       "      <th></th>\n",
       "      <th>Customer_Name</th>\n",
       "      <th>Customer_Type</th>\n",
       "      <th>Gender</th>\n",
       "      <th>Age</th>\n",
       "      <th>guid</th>\n",
       "    </tr>\n",
       "  </thead>\n",
       "  <tbody>\n",
       "    <tr>\n",
       "      <th>0</th>\n",
       "      <td>Stacey Price</td>\n",
       "      <td>Homemaker</td>\n",
       "      <td>F</td>\n",
       "      <td>25</td>\n",
       "      <td>58526ee0-a7c0-480f-a782-2c0c92b3c8ab</td>\n",
       "    </tr>\n",
       "    <tr>\n",
       "      <th>1</th>\n",
       "      <td>Michelle Carlson</td>\n",
       "      <td>Professional</td>\n",
       "      <td>F</td>\n",
       "      <td>47</td>\n",
       "      <td>29206584-b0de-4a9f-a228-2ccd7519d732</td>\n",
       "    </tr>\n",
       "    <tr>\n",
       "      <th>2</th>\n",
       "      <td>Lisa Graves</td>\n",
       "      <td>Professional</td>\n",
       "      <td>F</td>\n",
       "      <td>34</td>\n",
       "      <td>1200e410-81c6-4604-aff6-9aa124a692a5</td>\n",
       "    </tr>\n",
       "    <tr>\n",
       "      <th>3</th>\n",
       "      <td>Mrs. Patricia May</td>\n",
       "      <td>Homemaker</td>\n",
       "      <td>F</td>\n",
       "      <td>44</td>\n",
       "      <td>a1978ec1-8b08-4f03-b9f2-a23317ee6d5e</td>\n",
       "    </tr>\n",
       "    <tr>\n",
       "      <th>4</th>\n",
       "      <td>Susan Mitchell</td>\n",
       "      <td>Young Adult</td>\n",
       "      <td>F</td>\n",
       "      <td>22</td>\n",
       "      <td>03a0b807-9cd6-4fff-94a5-25e12548f300</td>\n",
       "    </tr>\n",
       "    <tr>\n",
       "      <th>...</th>\n",
       "      <td>...</td>\n",
       "      <td>...</td>\n",
       "      <td>...</td>\n",
       "      <td>...</td>\n",
       "      <td>...</td>\n",
       "    </tr>\n",
       "    <tr>\n",
       "      <th>329740</th>\n",
       "      <td>Mr. James Buchanan</td>\n",
       "      <td>Student</td>\n",
       "      <td>M</td>\n",
       "      <td>6</td>\n",
       "      <td>1880a3a4-184c-4f8e-beef-a646a5688ff3</td>\n",
       "    </tr>\n",
       "    <tr>\n",
       "      <th>329741</th>\n",
       "      <td>Gary Mosley</td>\n",
       "      <td>Retiree</td>\n",
       "      <td>M</td>\n",
       "      <td>71</td>\n",
       "      <td>fcb868f3-7e4b-46aa-a276-44ec32c38d75</td>\n",
       "    </tr>\n",
       "    <tr>\n",
       "      <th>329742</th>\n",
       "      <td>Gary Salas</td>\n",
       "      <td>Middle-Aged</td>\n",
       "      <td>M</td>\n",
       "      <td>59</td>\n",
       "      <td>1a315d4c-fa8e-43ab-b830-8978630ccc7f</td>\n",
       "    </tr>\n",
       "    <tr>\n",
       "      <th>329743</th>\n",
       "      <td>Shaun Wilkerson</td>\n",
       "      <td>Young Adult</td>\n",
       "      <td>M</td>\n",
       "      <td>19</td>\n",
       "      <td>ef9b1c31-c275-4df4-bfd7-562404157004</td>\n",
       "    </tr>\n",
       "    <tr>\n",
       "      <th>329744</th>\n",
       "      <td>Blake Richard</td>\n",
       "      <td>Student</td>\n",
       "      <td>M</td>\n",
       "      <td>14</td>\n",
       "      <td>4d49a475-6e97-4e0b-84fb-fd3aca8b75f4</td>\n",
       "    </tr>\n",
       "  </tbody>\n",
       "</table>\n",
       "<p>329745 rows × 5 columns</p>\n",
       "</div>"
      ],
      "text/plain": [
       "             Customer_Name Customer_Type Gender  Age  \\\n",
       "0             Stacey Price     Homemaker      F   25   \n",
       "1         Michelle Carlson  Professional      F   47   \n",
       "2              Lisa Graves  Professional      F   34   \n",
       "3        Mrs. Patricia May     Homemaker      F   44   \n",
       "4           Susan Mitchell   Young Adult      F   22   \n",
       "...                    ...           ...    ...  ...   \n",
       "329740  Mr. James Buchanan       Student      M    6   \n",
       "329741         Gary Mosley       Retiree      M   71   \n",
       "329742          Gary Salas   Middle-Aged      M   59   \n",
       "329743     Shaun Wilkerson   Young Adult      M   19   \n",
       "329744       Blake Richard       Student      M   14   \n",
       "\n",
       "                                        guid  \n",
       "0       58526ee0-a7c0-480f-a782-2c0c92b3c8ab  \n",
       "1       29206584-b0de-4a9f-a228-2ccd7519d732  \n",
       "2       1200e410-81c6-4604-aff6-9aa124a692a5  \n",
       "3       a1978ec1-8b08-4f03-b9f2-a23317ee6d5e  \n",
       "4       03a0b807-9cd6-4fff-94a5-25e12548f300  \n",
       "...                                      ...  \n",
       "329740  1880a3a4-184c-4f8e-beef-a646a5688ff3  \n",
       "329741  fcb868f3-7e4b-46aa-a276-44ec32c38d75  \n",
       "329742  1a315d4c-fa8e-43ab-b830-8978630ccc7f  \n",
       "329743  ef9b1c31-c275-4df4-bfd7-562404157004  \n",
       "329744  4d49a475-6e97-4e0b-84fb-fd3aca8b75f4  \n",
       "\n",
       "[329745 rows x 5 columns]"
      ]
     },
     "execution_count": 13,
     "metadata": {},
     "output_type": "execute_result"
    }
   ],
   "source": [
    "df_user"
   ]
  },
  {
   "cell_type": "code",
   "execution_count": 14,
   "id": "92c77d47",
   "metadata": {},
   "outputs": [
    {
     "data": {
      "text/html": [
       "<div>\n",
       "<style scoped>\n",
       "    .dataframe tbody tr th:only-of-type {\n",
       "        vertical-align: middle;\n",
       "    }\n",
       "\n",
       "    .dataframe tbody tr th {\n",
       "        vertical-align: top;\n",
       "    }\n",
       "\n",
       "    .dataframe thead th {\n",
       "        text-align: right;\n",
       "    }\n",
       "</style>\n",
       "<table border=\"1\" class=\"dataframe\">\n",
       "  <thead>\n",
       "    <tr style=\"text-align: right;\">\n",
       "      <th></th>\n",
       "      <th>Customer_Name</th>\n",
       "      <th>Customer_Type</th>\n",
       "      <th>Gender</th>\n",
       "      <th>Age</th>\n",
       "      <th>guid</th>\n",
       "    </tr>\n",
       "  </thead>\n",
       "  <tbody>\n",
       "    <tr>\n",
       "      <th>0</th>\n",
       "      <td>Stacey Price</td>\n",
       "      <td>Homemaker</td>\n",
       "      <td>F</td>\n",
       "      <td>25</td>\n",
       "      <td>58526ee0-a7c0-480f-a782-2c0c92b3c8ab</td>\n",
       "    </tr>\n",
       "  </tbody>\n",
       "</table>\n",
       "</div>"
      ],
      "text/plain": [
       "  Customer_Name Customer_Type Gender  Age  \\\n",
       "0  Stacey Price     Homemaker      F   25   \n",
       "\n",
       "                                   guid  \n",
       "0  58526ee0-a7c0-480f-a782-2c0c92b3c8ab  "
      ]
     },
     "execution_count": 14,
     "metadata": {},
     "output_type": "execute_result"
    }
   ],
   "source": [
    "df_user[df_user['Customer_Name']=='Stacey Price']"
   ]
  },
  {
   "cell_type": "code",
   "execution_count": 10,
   "id": "5479bc8c",
   "metadata": {},
   "outputs": [
    {
     "data": {
      "text/plain": [
       "'58526ee0-a7c0-480f-a782-2c0c92b3c8ab'"
      ]
     },
     "execution_count": 10,
     "metadata": {},
     "output_type": "execute_result"
    }
   ],
   "source": [
    "usermap.get('Stacey Price')"
   ]
  },
  {
   "cell_type": "code",
   "execution_count": 15,
   "id": "8f919d3a",
   "metadata": {},
   "outputs": [
    {
     "name": "stdout",
     "output_type": "stream",
     "text": [
      "0  Cloums Completed\n",
      "10000  Cloums Completed\n",
      "20000  Cloums Completed\n",
      "30000  Cloums Completed\n",
      "40000  Cloums Completed\n",
      "50000  Cloums Completed\n",
      "60000  Cloums Completed\n",
      "70000  Cloums Completed\n",
      "80000  Cloums Completed\n",
      "90000  Cloums Completed\n",
      "100000  Cloums Completed\n",
      "110000  Cloums Completed\n",
      "120000  Cloums Completed\n",
      "130000  Cloums Completed\n",
      "140000  Cloums Completed\n",
      "150000  Cloums Completed\n",
      "160000  Cloums Completed\n",
      "170000  Cloums Completed\n",
      "180000  Cloums Completed\n",
      "190000  Cloums Completed\n",
      "200000  Cloums Completed\n",
      "210000  Cloums Completed\n",
      "220000  Cloums Completed\n",
      "230000  Cloums Completed\n",
      "240000  Cloums Completed\n",
      "250000  Cloums Completed\n",
      "260000  Cloums Completed\n",
      "270000  Cloums Completed\n",
      "280000  Cloums Completed\n",
      "290000  Cloums Completed\n",
      "300000  Cloums Completed\n",
      "310000  Cloums Completed\n",
      "320000  Cloums Completed\n",
      "330000  Cloums Completed\n",
      "340000  Cloums Completed\n",
      "350000  Cloums Completed\n",
      "360000  Cloums Completed\n",
      "370000  Cloums Completed\n",
      "380000  Cloums Completed\n",
      "390000  Cloums Completed\n",
      "400000  Cloums Completed\n",
      "410000  Cloums Completed\n",
      "420000  Cloums Completed\n",
      "430000  Cloums Completed\n",
      "440000  Cloums Completed\n",
      "450000  Cloums Completed\n",
      "460000  Cloums Completed\n",
      "470000  Cloums Completed\n",
      "480000  Cloums Completed\n",
      "490000  Cloums Completed\n",
      "500000  Cloums Completed\n",
      "510000  Cloums Completed\n",
      "520000  Cloums Completed\n",
      "530000  Cloums Completed\n",
      "540000  Cloums Completed\n",
      "550000  Cloums Completed\n",
      "560000  Cloums Completed\n",
      "570000  Cloums Completed\n",
      "580000  Cloums Completed\n",
      "590000  Cloums Completed\n",
      "600000  Cloums Completed\n",
      "610000  Cloums Completed\n",
      "620000  Cloums Completed\n",
      "630000  Cloums Completed\n",
      "640000  Cloums Completed\n",
      "650000  Cloums Completed\n",
      "660000  Cloums Completed\n",
      "670000  Cloums Completed\n",
      "680000  Cloums Completed\n",
      "690000  Cloums Completed\n",
      "700000  Cloums Completed\n",
      "710000  Cloums Completed\n",
      "720000  Cloums Completed\n",
      "730000  Cloums Completed\n",
      "740000  Cloums Completed\n",
      "750000  Cloums Completed\n",
      "760000  Cloums Completed\n",
      "770000  Cloums Completed\n",
      "780000  Cloums Completed\n",
      "790000  Cloums Completed\n",
      "800000  Cloums Completed\n",
      "810000  Cloums Completed\n",
      "820000  Cloums Completed\n",
      "830000  Cloums Completed\n",
      "840000  Cloums Completed\n",
      "850000  Cloums Completed\n",
      "860000  Cloums Completed\n",
      "870000  Cloums Completed\n",
      "880000  Cloums Completed\n",
      "890000  Cloums Completed\n",
      "900000  Cloums Completed\n",
      "910000  Cloums Completed\n",
      "920000  Cloums Completed\n",
      "930000  Cloums Completed\n",
      "940000  Cloums Completed\n",
      "950000  Cloums Completed\n",
      "960000  Cloums Completed\n",
      "970000  Cloums Completed\n",
      "980000  Cloums Completed\n",
      "990000  Cloums Completed\n"
     ]
    }
   ],
   "source": [
    "existing_pairs = set()\n",
    "for i, row in df_retail.iterrows():\n",
    "    products = row.Product.replace(\"[\",'').replace(\"]\",'').replace(\"'\",'').replace(', ',',').split(',')\n",
    "    user = usermap.get(row['Customer_Name'])\n",
    "    existing_pairs.update(zip([user] * len(products), products, [1] * len(products)))\n",
    "    if i % 10000 == 0:\n",
    "        print(i,' Columns Completed')"
   ]
  },
  {
   "cell_type": "code",
   "execution_count": 16,
   "id": "09051b5a",
   "metadata": {},
   "outputs": [
    {
     "name": "stdout",
     "output_type": "stream",
     "text": [
      "(2474923, 3)\n"
     ]
    }
   ],
   "source": [
    "df_useritem = pd.DataFrame(columns=['user','product','rating'])\n",
    "df_useritem = pd.concat([df_useritem,pd.DataFrame(data=existing_pairs,columns=['user','product','rating'])],ignore_index=True)\n",
    "print(df_useritem.shape)"
   ]
  },
  {
   "cell_type": "code",
   "execution_count": 20,
   "id": "47f300bb",
   "metadata": {},
   "outputs": [],
   "source": [
    "CustomerNames = list(df_retail['Customer_Name'].unique())\n",
    "unrated_pairs = [(usermap.get(user), product,rating) for user in CustomerNames for product in ProductSet for rating in [0]\n",
    "                 if (user, product) not in existing_pairs]"
   ]
  },
  {
   "cell_type": "code",
   "execution_count": 21,
   "id": "dae789db",
   "metadata": {},
   "outputs": [
    {
     "data": {
      "text/plain": [
       "(29183701, 3)"
      ]
     },
     "execution_count": 21,
     "metadata": {},
     "output_type": "execute_result"
    }
   ],
   "source": [
    "df_useritem = pd.concat([df_useritem,pd.DataFrame(data=unrated_pairs,columns=['user','product','rating'])],ignore_index=True)\n",
    "df_useritem.shape"
   ]
  },
  {
   "cell_type": "code",
   "execution_count": 24,
   "id": "167e91f4",
   "metadata": {},
   "outputs": [
    {
     "data": {
      "text/plain": [
       "(29183701, 3)"
      ]
     },
     "execution_count": 24,
     "metadata": {},
     "output_type": "execute_result"
    }
   ],
   "source": [
    "df_useritem.shape"
   ]
  },
  {
   "cell_type": "code",
   "execution_count": 22,
   "id": "569bb41a",
   "metadata": {},
   "outputs": [],
   "source": [
    "df_useritem.to_csv('../data/UserItemData.csv',index=False)"
   ]
  },
  {
   "cell_type": "code",
   "execution_count": null,
   "id": "78520fec",
   "metadata": {},
   "outputs": [],
   "source": []
  }
 ],
 "metadata": {
  "kernelspec": {
   "display_name": "venv",
   "language": "python",
   "name": "python3"
  },
  "language_info": {
   "codemirror_mode": {
    "name": "ipython",
    "version": 3
   },
   "file_extension": ".py",
   "mimetype": "text/x-python",
   "name": "python",
   "nbconvert_exporter": "python",
   "pygments_lexer": "ipython3",
   "version": "3.11.7"
  }
 },
 "nbformat": 4,
 "nbformat_minor": 5
}
