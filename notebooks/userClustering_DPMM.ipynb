{
 "cells": [
  {
   "cell_type": "code",
   "execution_count": null,
   "id": "0f449157",
   "metadata": {},
   "outputs": [
    {
     "data": {
      "text/plain": [
       "'# Plot results\\nplt.scatter(df_cust_final[:, 0], df_cust_final[:, 1], c=labels, cmap=\\'tab10\\')\\nplt.title(\"Dirichlet Process Gaussian Mixture Clustering\")\\nplt.xlabel(\"X1\")\\nplt.ylabel(\"X2\")\\nplt.grid(True)\\nplt.show()'"
      ]
     },
     "execution_count": 3,
     "metadata": {},
     "output_type": "execute_result"
    }
   ],
   "source": [
    "from sklearn.mixture import BayesianGaussianMixture\n",
    "import numpy as np\n",
    "import matplotlib.pyplot as plt\n",
    "import pandas as pd \n",
    "from sklearn.preprocessing import StandardScaler\n",
    " \n",
    "# Generate synthetic data \n",
    "df_cust = pd.read_csv('../data/UserData.csv')\n",
    "df_cust.drop(['Customer_Name'],axis=1,inplace=True)\n",
    "df_cust_num = df_cust.select_dtypes(np.number)\n",
    "df_cust_cat = df_cust.select_dtypes('object')\n",
    "pd.get_dummies(df_cust_cat,drop_first=True)\n",
    "X_norm = StandardScaler()\n",
    "\n",
    "# normalize all the columns of the dataframe 'X_filtered'\n",
    "num_norm = X_norm.fit_transform(df_cust_num)\n",
    "df_cust_final = pd.get_dummies(df_cust_cat,drop_first=True)\n",
    "df_cust_final['Age'] = num_norm\n",
    "\n",
    "# Fit DPMM using Bayesian Gaussian Mixture\n",
    "dpmm = BayesianGaussianMixture(\n",
    "    n_components=10,        # upper bound on components\n",
    "    covariance_type='full',\n",
    "    weight_concentration_prior_type='dirichlet_process',\n",
    "    weight_concentration_prior=1e-2,  # small = prefer fewer clusters\n",
    "    random_state=42\n",
    ")\n",
    "dpmm.fit(df_cust_final)\n",
    "labels = dpmm.predict(df_cust_final)\n",
    "\n",
    "\"\"\"# Plot results\n",
    "plt.scatter(df_cust_final[:, 0], df_cust_final[:, 1], c=labels, cmap='tab10')\n",
    "plt.title(\"Dirichlet Process Gaussian Mixture Clustering\")\n",
    "plt.xlabel(\"X1\")\n",
    "plt.ylabel(\"X2\")\n",
    "plt.grid(True)\n",
    "plt.show()\"\"\""
   ]
  },
  {
   "cell_type": "code",
   "execution_count": 7,
   "id": "dedae48c",
   "metadata": {},
   "outputs": [
    {
     "data": {
      "text/plain": [
       "{0, 1, 2, 3, 4, 5, 6, 7, 8, 9}"
      ]
     },
     "execution_count": 7,
     "metadata": {},
     "output_type": "execute_result"
    }
   ],
   "source": [
    "set(labels)"
   ]
  },
  {
   "cell_type": "code",
   "execution_count": 8,
   "id": "8c9ebb77",
   "metadata": {},
   "outputs": [],
   "source": [
    "import pickle\n",
    "with open('dpmm_model.pkl', 'wb') as f:\n",
    "    pickle.dump(dpmm, f)"
   ]
  },
  {
   "cell_type": "code",
   "execution_count": 11,
   "id": "f3823e52",
   "metadata": {},
   "outputs": [
    {
     "data": {
      "text/plain": [
       "Customer_Type_Middle-Aged          False\n",
       "Customer_Type_Professional         False\n",
       "Customer_Type_Retiree              False\n",
       "Customer_Type_Senior Citizen       False\n",
       "Customer_Type_Student              False\n",
       "Customer_Type_Teenager             False\n",
       "Customer_Type_Young Adult          False\n",
       "Gender_M                           False\n",
       "Age                            -0.695279\n",
       "Name: 0, dtype: object"
      ]
     },
     "execution_count": 11,
     "metadata": {},
     "output_type": "execute_result"
    }
   ],
   "source": [
    "df_cust_final.loc[0]"
   ]
  },
  {
   "cell_type": "code",
   "execution_count": 34,
   "id": "f5503b91",
   "metadata": {},
   "outputs": [
    {
     "data": {
      "text/html": [
       "<div>\n",
       "<style scoped>\n",
       "    .dataframe tbody tr th:only-of-type {\n",
       "        vertical-align: middle;\n",
       "    }\n",
       "\n",
       "    .dataframe tbody tr th {\n",
       "        vertical-align: top;\n",
       "    }\n",
       "\n",
       "    .dataframe thead th {\n",
       "        text-align: right;\n",
       "    }\n",
       "</style>\n",
       "<table border=\"1\" class=\"dataframe\">\n",
       "  <thead>\n",
       "    <tr style=\"text-align: right;\">\n",
       "      <th></th>\n",
       "      <th>0</th>\n",
       "      <th>1</th>\n",
       "      <th>2</th>\n",
       "      <th>3</th>\n",
       "      <th>4</th>\n",
       "      <th>5</th>\n",
       "      <th>6</th>\n",
       "      <th>7</th>\n",
       "      <th>8</th>\n",
       "    </tr>\n",
       "  </thead>\n",
       "  <tbody>\n",
       "    <tr>\n",
       "      <th>0</th>\n",
       "      <td>False</td>\n",
       "      <td>False</td>\n",
       "      <td>False</td>\n",
       "      <td>False</td>\n",
       "      <td>False</td>\n",
       "      <td>False</td>\n",
       "      <td>False</td>\n",
       "      <td>False</td>\n",
       "      <td>-0.695279</td>\n",
       "    </tr>\n",
       "  </tbody>\n",
       "</table>\n",
       "</div>"
      ],
      "text/plain": [
       "       0      1      2      3      4      5      6      7         8\n",
       "0  False  False  False  False  False  False  False  False -0.695279"
      ]
     },
     "execution_count": 34,
     "metadata": {},
     "output_type": "execute_result"
    }
   ],
   "source": [
    "pd.DataFrame(data=[[False, False, False, False, False, False, False, False, -0.695279]])"
   ]
  },
  {
   "cell_type": "code",
   "execution_count": 35,
   "id": "4b46598e",
   "metadata": {},
   "outputs": [
    {
     "data": {
      "text/plain": [
       "[[False, False, False, False, False, False, False, False, -0.695279]]"
      ]
     },
     "execution_count": 35,
     "metadata": {},
     "output_type": "execute_result"
    }
   ],
   "source": [
    "[[False, False, False, False, False, False, False, False, -0.695279]]"
   ]
  },
  {
   "cell_type": "code",
   "execution_count": 41,
   "id": "a76ef816",
   "metadata": {},
   "outputs": [
    {
     "data": {
      "text/plain": [
       "2"
      ]
     },
     "execution_count": 41,
     "metadata": {},
     "output_type": "execute_result"
    }
   ],
   "source": [
    "dpmm.predict(pd.DataFrame(data=[[True, False, False, False, False, False, False, False, -0.605279]],columns=df_cust_final.columns))[0]"
   ]
  },
  {
   "cell_type": "code",
   "execution_count": 26,
   "id": "df0e75e8",
   "metadata": {},
   "outputs": [
    {
     "data": {
      "text/plain": [
       "Customer_Type_Middle-Aged          False\n",
       "Customer_Type_Professional         False\n",
       "Customer_Type_Retiree              False\n",
       "Customer_Type_Senior Citizen       False\n",
       "Customer_Type_Student              False\n",
       "Customer_Type_Teenager             False\n",
       "Customer_Type_Young Adult          False\n",
       "Gender_M                           False\n",
       "Age                            -0.695279\n",
       "Name: 0, dtype: object"
      ]
     },
     "execution_count": 26,
     "metadata": {},
     "output_type": "execute_result"
    }
   ],
   "source": [
    "df_cust_final.iloc[0]"
   ]
  },
  {
   "cell_type": "code",
   "execution_count": null,
   "id": "eaff18fc",
   "metadata": {},
   "outputs": [],
   "source": []
  }
 ],
 "metadata": {
  "kernelspec": {
   "display_name": "Python 3",
   "language": "python",
   "name": "python3"
  },
  "language_info": {
   "codemirror_mode": {
    "name": "ipython",
    "version": 3
   },
   "file_extension": ".py",
   "mimetype": "text/x-python",
   "name": "python",
   "nbconvert_exporter": "python",
   "pygments_lexer": "ipython3",
   "version": "3.11.7"
  }
 },
 "nbformat": 4,
 "nbformat_minor": 5
}
