{
 "cells": [
  {
   "cell_type": "code",
   "execution_count": null,
   "id": "f3b7db64",
   "metadata": {},
   "outputs": [],
   "source": [
    "import pandas as pd\n",
    "import numpy as np\n",
    "\n",
    "from surprise import Dataset, Reader, SVD, accuracy\n",
    "from surprise.model_selection import train_test_split\n",
    "from collections import defaultdict\n",
    " \n",
    "df = pd.read_csv('../data/UserItemData.csv') \n",
    "\n",
    "reader = Reader(rating_scale=(0, 1))\n",
    "surprise_data = Dataset.load_from_df(df[['user', 'product', 'rating']], reader)\n",
    "\n",
    "trainset, testset = train_test_split(surprise_data, test_size=0.2, random_state=42)\n",
    "\n",
    "model = SVD()\n",
    "model.fit(trainset)\n",
    "\n",
    "predictions = model.test(testset)\n",
    "\n",
    "rmse = accuracy.rmse(predictions)\n",
    "print(f\"\\nRMSE on test data: {rmse:.4f}\")"
   ]
  }
 ],
 "metadata": {
  "language_info": {
   "name": "python"
  }
 },
 "nbformat": 4,
 "nbformat_minor": 5
}
